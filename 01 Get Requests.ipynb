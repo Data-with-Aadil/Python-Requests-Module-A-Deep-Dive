{
 "cells": [
  {
   "cell_type": "markdown",
   "id": "08ce6fc5",
   "metadata": {},
   "source": [
    "# Requests Module"
   ]
  },
  {
   "cell_type": "markdown",
   "id": "3434646c",
   "metadata": {},
   "source": [
    "### how to send a simple get requests"
   ]
  },
  {
   "cell_type": "markdown",
   "id": "226cfb96",
   "metadata": {},
   "source": [
    "#### get request is nothing but getting something on our browser"
   ]
  },
  {
   "cell_type": "code",
   "execution_count": 1,
   "id": "2b52197c",
   "metadata": {
    "scrolled": true
   },
   "outputs": [
    {
     "name": "stderr",
     "output_type": "stream",
     "text": [
      "C:\\Users\\Er. Aadil Ji\\AppData\\Local\\Programs\\Python\\Python39\\lib\\site-packages\\requests\\__init__.py:102: RequestsDependencyWarning: urllib3 (1.26.9) or chardet (5.0.0)/charset_normalizer (2.0.12) doesn't match a supported version!\n",
      "  warnings.warn(\"urllib3 ({}) or chardet ({})/charset_normalizer ({}) doesn't match a supported \"\n"
     ]
    },
    {
     "name": "stdout",
     "output_type": "stream",
     "text": [
      "<Response [200]>\n"
     ]
    }
   ],
   "source": [
    "import requests \n",
    "\n",
    "r = requests.get('https://www.codewithharry.com') \n",
    "print(r) "
   ]
  },
  {
   "cell_type": "markdown",
   "id": "06618c2e",
   "metadata": {},
   "source": [
    "#### saving the index.html in our local system, so even if the website goes down, we have the data"
   ]
  },
  {
   "cell_type": "code",
   "execution_count": 2,
   "id": "83106302",
   "metadata": {},
   "outputs": [],
   "source": [
    "with open('index.html','w') as f: \n",
    "    f.write(r.text) "
   ]
  },
  {
   "cell_type": "code",
   "execution_count": null,
   "id": "28fba84e",
   "metadata": {},
   "outputs": [],
   "source": []
  }
 ],
 "metadata": {
  "kernelspec": {
   "display_name": "Python 3 (ipykernel)",
   "language": "python",
   "name": "python3"
  },
  "language_info": {
   "codemirror_mode": {
    "name": "ipython",
    "version": 3
   },
   "file_extension": ".py",
   "mimetype": "text/x-python",
   "name": "python",
   "nbconvert_exporter": "python",
   "pygments_lexer": "ipython3",
   "version": "3.9.7"
  }
 },
 "nbformat": 4,
 "nbformat_minor": 5
}
