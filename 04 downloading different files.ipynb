{
 "cells": [
  {
   "cell_type": "code",
   "execution_count": 1,
   "id": "a8304bfe",
   "metadata": {},
   "outputs": [
    {
     "name": "stdout",
     "output_type": "stream",
     "text": [
      "Requirement already satisfied: pillow in c:\\python311\\lib\\site-packages (9.5.0)\n"
     ]
    },
    {
     "name": "stderr",
     "output_type": "stream",
     "text": [
      "\n",
      "[notice] A new release of pip available: 22.3 -> 23.1\n",
      "[notice] To update, run: python.exe -m pip install --upgrade pip\n"
     ]
    }
   ],
   "source": [
    "# to download images  \n",
    "!pip install pillow"
   ]
  },
  {
   "cell_type": "code",
   "execution_count": 2,
   "id": "8e7496af",
   "metadata": {},
   "outputs": [
    {
     "name": "stderr",
     "output_type": "stream",
     "text": [
      "C:\\Users\\Er. Aadil Ji\\AppData\\Local\\Programs\\Python\\Python39\\lib\\site-packages\\requests\\__init__.py:102: RequestsDependencyWarning: urllib3 (1.26.9) or chardet (5.0.0)/charset_normalizer (2.0.12) doesn't match a supported version!\n",
      "  warnings.warn(\"urllib3 ({}) or chardet ({})/charset_normalizer ({}) doesn't match a supported \"\n"
     ]
    }
   ],
   "source": [
    "import requests \n",
    "from PIL import Image\n",
    "from io import BytesIO \n",
    "\n",
    "r = requests.get('https://www.shutterstock.com/image-photo/surreal-image-african-elephant-wearing-260nw-1365289022.jpg') "
   ]
  },
  {
   "cell_type": "code",
   "execution_count": 3,
   "id": "1b70cc57",
   "metadata": {},
   "outputs": [],
   "source": [
    "# creating a image object \n",
    "\n",
    "i = Image.open(BytesIO(r.content))  "
   ]
  },
  {
   "cell_type": "code",
   "execution_count": 4,
   "id": "c834a0d9",
   "metadata": {},
   "outputs": [],
   "source": [
    "# creating a file pointer to save the image using write binary \n",
    "\n",
    "fp = open('elephant.jpg', 'wb')\n",
    "\n",
    "i.save(fp) \n",
    "\n",
    "fp.close() "
   ]
  },
  {
   "cell_type": "markdown",
   "id": "fb71d51b",
   "metadata": {},
   "source": [
    "![image description](elephant.jpg)"
   ]
  },
  {
   "cell_type": "markdown",
   "id": "53b3d5d1",
   "metadata": {},
   "source": [
    "#### downlaoding sound"
   ]
  },
  {
   "cell_type": "code",
   "execution_count": 5,
   "id": "6fcdcebb",
   "metadata": {},
   "outputs": [],
   "source": [
    "import requests \n",
    "\n",
    "r = requests.get('https://cdn.pixabay.com/download/audio/2023/04/06/audio_6d1202b050.mp3?filename=hars-up-rise-145493.mp3') \n",
    "\n",
    "fp = open('sound.mp3','wb')\n",
    "\n",
    "fp.write(r.content) \n",
    "\n",
    "fp.close() "
   ]
  },
  {
   "cell_type": "markdown",
   "id": "741376d2",
   "metadata": {},
   "source": [
    "#### downloading small exe file"
   ]
  },
  {
   "cell_type": "code",
   "execution_count": 6,
   "id": "4b9c8b23",
   "metadata": {},
   "outputs": [],
   "source": [
    "import requests \n",
    "\n",
    "r = requests.get('https://www.win-rar.com/fileadmin/winrar-versions/winrar/winrar-x64-621.exe') \n",
    "\n",
    "fp = open('winrar.exe','wb')\n",
    "\n",
    "fp.write(r.content) \n",
    "\n",
    "fp.close() "
   ]
  },
  {
   "cell_type": "code",
   "execution_count": null,
   "id": "6997d683",
   "metadata": {},
   "outputs": [],
   "source": []
  }
 ],
 "metadata": {
  "kernelspec": {
   "display_name": "Python 3 (ipykernel)",
   "language": "python",
   "name": "python3"
  },
  "language_info": {
   "codemirror_mode": {
    "name": "ipython",
    "version": 3
   },
   "file_extension": ".py",
   "mimetype": "text/x-python",
   "name": "python",
   "nbconvert_exporter": "python",
   "pygments_lexer": "ipython3",
   "version": "3.9.7"
  }
 },
 "nbformat": 4,
 "nbformat_minor": 5
}
