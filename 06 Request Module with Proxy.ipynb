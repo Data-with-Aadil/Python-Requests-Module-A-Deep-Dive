{
 "cells": [
  {
   "cell_type": "raw",
   "id": "c5e55ca4",
   "metadata": {},
   "source": [
    "if we go to the website like :- https://proxyscrape.com/free-proxy-list, here we can see that port no. is also defined, so we need to define the port no. also."
   ]
  },
  {
   "cell_type": "raw",
   "id": "c25791f1",
   "metadata": {},
   "source": [
    "# Example of the code for proxy.\n",
    "\n",
    "import requests\n",
    "\n",
    "proxies = {\n",
    "  \"http\": \"http://10.10.1.10:3128\",\n",
    "  \"https\": \"https://10.10.1.10:1080\",\n",
    "}\n",
    "\n",
    "requests.get(\"http://example.org\", proxies=proxies)"
   ]
  },
  {
   "cell_type": "code",
   "execution_count": 1,
   "id": "43905c0d",
   "metadata": {},
   "outputs": [
    {
     "name": "stderr",
     "output_type": "stream",
     "text": [
      "C:\\Users\\Er. Aadil Ji\\AppData\\Local\\Programs\\Python\\Python39\\lib\\site-packages\\requests\\__init__.py:102: RequestsDependencyWarning: urllib3 (1.26.9) or chardet (5.0.0)/charset_normalizer (2.0.12) doesn't match a supported version!\n",
      "  warnings.warn(\"urllib3 ({}) or chardet ({})/charset_normalizer ({}) doesn't match a supported \"\n"
     ]
    },
    {
     "name": "stdout",
     "output_type": "stream",
     "text": [
      "{\n",
      "  \"args\": {}, \n",
      "  \"headers\": {\n",
      "    \"Accept\": \"*/*\", \n",
      "    \"Accept-Encoding\": \"gzip, deflate\", \n",
      "    \"Host\": \"httpbin.org\", \n",
      "    \"User-Agent\": \"python-requests/2.27.1\", \n",
      "    \"X-Amzn-Trace-Id\": \"Root=1-6444e2ce-563cd6b53102448c200c9ddf\"\n",
      "  }, \n",
      "  \"origin\": \"20.212.130.137\", \n",
      "  \"url\": \"http://httpbin.org/get\"\n",
      "}\n",
      "\n"
     ]
    }
   ],
   "source": [
    "import requests\n",
    "\n",
    "proxy = {'http': 'http://40.119.236.22:80', 'https': 'http://40.119.236.22:80'}\n",
    "\n",
    "response = requests.get('http://httpbin.org/get', proxies=proxy)\n",
    "\n",
    "print(response.text)\n",
    "\n"
   ]
  },
  {
   "cell_type": "code",
   "execution_count": 2,
   "id": "b567e497",
   "metadata": {},
   "outputs": [
    {
     "data": {
      "text/plain": [
       "{'args': {},\n",
       " 'headers': {'Accept': '*/*',\n",
       "  'Accept-Encoding': 'gzip, deflate',\n",
       "  'Host': 'httpbin.org',\n",
       "  'User-Agent': 'python-requests/2.27.1',\n",
       "  'X-Amzn-Trace-Id': 'Root=1-6444e2ce-563cd6b53102448c200c9ddf'},\n",
       " 'origin': '20.212.130.137',\n",
       " 'url': 'http://httpbin.org/get'}"
      ]
     },
     "execution_count": 2,
     "metadata": {},
     "output_type": "execute_result"
    }
   ],
   "source": [
    "response.json() "
   ]
  },
  {
   "cell_type": "code",
   "execution_count": 3,
   "id": "f16f91fa",
   "metadata": {},
   "outputs": [
    {
     "name": "stdout",
     "output_type": "stream",
     "text": [
      "http://httpbin.org/get\n"
     ]
    }
   ],
   "source": [
    "print(response.url) "
   ]
  },
  {
   "cell_type": "code",
   "execution_count": null,
   "id": "d2cb4820",
   "metadata": {},
   "outputs": [],
   "source": []
  }
 ],
 "metadata": {
  "kernelspec": {
   "display_name": "Python 3 (ipykernel)",
   "language": "python",
   "name": "python3"
  },
  "language_info": {
   "codemirror_mode": {
    "name": "ipython",
    "version": 3
   },
   "file_extension": ".py",
   "mimetype": "text/x-python",
   "name": "python",
   "nbconvert_exporter": "python",
   "pygments_lexer": "ipython3",
   "version": "3.9.7"
  }
 },
 "nbformat": 4,
 "nbformat_minor": 5
}
