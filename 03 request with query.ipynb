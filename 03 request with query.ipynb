{
 "cells": [
  {
   "cell_type": "code",
   "execution_count": 1,
   "id": "7937f721",
   "metadata": {},
   "outputs": [],
   "source": [
    "#### ![image description](/path/to/image.png)\n",
    "\n",
    "# this is the code to add a image to the jupyter notebook as markdown."
   ]
  },
  {
   "cell_type": "markdown",
   "id": "6c9f2415",
   "metadata": {},
   "source": [
    "![image description](types-of-requests.jpg)\n"
   ]
  },
  {
   "cell_type": "markdown",
   "id": "97dd0204",
   "metadata": {},
   "source": [
    "#### get requests with parameters"
   ]
  },
  {
   "cell_type": "code",
   "execution_count": 2,
   "id": "c5df9794",
   "metadata": {},
   "outputs": [
    {
     "name": "stderr",
     "output_type": "stream",
     "text": [
      "C:\\Users\\Er. Aadil Ji\\AppData\\Local\\Programs\\Python\\Python39\\lib\\site-packages\\requests\\__init__.py:102: RequestsDependencyWarning: urllib3 (1.26.9) or chardet (5.0.0)/charset_normalizer (2.0.12) doesn't match a supported version!\n",
      "  warnings.warn(\"urllib3 ({}) or chardet ({})/charset_normalizer ({}) doesn't match a supported \"\n"
     ]
    }
   ],
   "source": [
    "import requests \n",
    "\n",
    "payload = {'key1': 'value1', 'key2': ['value2', 'value3']}\n",
    "\n",
    "r = requests.get('https://httpbin.org/get', params=payload) "
   ]
  },
  {
   "cell_type": "code",
   "execution_count": 3,
   "id": "49970cda",
   "metadata": {},
   "outputs": [
    {
     "name": "stdout",
     "output_type": "stream",
     "text": [
      "https://httpbin.org/get?key1=value1&key2=value2&key2=value3\n"
     ]
    }
   ],
   "source": [
    "print(r.url) "
   ]
  },
  {
   "cell_type": "markdown",
   "id": "1d555fd8",
   "metadata": {},
   "source": [
    "#### post requests with parameters"
   ]
  },
  {
   "cell_type": "code",
   "execution_count": 4,
   "id": "1398e651",
   "metadata": {},
   "outputs": [
    {
     "name": "stdout",
     "output_type": "stream",
     "text": [
      "{\n",
      "  \"args\": {\n",
      "    \"a\": \"b\"\n",
      "  }, \n",
      "  \"data\": \"\", \n",
      "  \"files\": {}, \n",
      "  \"form\": {\n",
      "    \"key1\": \"value1\", \n",
      "    \"key2\": \"value2\"\n",
      "  }, \n",
      "  \"headers\": {\n",
      "    \"Accept\": \"*/*\", \n",
      "    \"Accept-Encoding\": \"gzip, deflate\", \n",
      "    \"Content-Length\": \"23\", \n",
      "    \"Content-Type\": \"application/x-www-form-urlencoded\", \n",
      "    \"Host\": \"httpbin.org\", \n",
      "    \"User-Agent\": \"python-requests/2.27.1\", \n",
      "    \"X-Amzn-Trace-Id\": \"Root=1-6444c8f6-5096f8f438635d9b29e1f21e\"\n",
      "  }, \n",
      "  \"json\": null, \n",
      "  \"origin\": \"103.177.130.178\", \n",
      "  \"url\": \"https://httpbin.org/post?a=b\"\n",
      "}\n",
      "\n"
     ]
    }
   ],
   "source": [
    "import requests\n",
    "\n",
    "url = \"https://httpbin.org/post?a=b\"\n",
    "payload = {'key1': 'value1', 'key2': 'value2'}\n",
    "\n",
    "response = requests.post(url, data=payload)\n",
    "\n",
    "print(response.text) "
   ]
  },
  {
   "cell_type": "code",
   "execution_count": 5,
   "id": "f05a36c9",
   "metadata": {},
   "outputs": [
    {
     "name": "stdout",
     "output_type": "stream",
     "text": [
      "https://httpbin.org/post?a=b\n"
     ]
    }
   ],
   "source": [
    "print(response.url)  "
   ]
  },
  {
   "cell_type": "code",
   "execution_count": 6,
   "id": "1151cfc5",
   "metadata": {},
   "outputs": [
    {
     "name": "stdout",
     "output_type": "stream",
     "text": [
      "{\n",
      "  \"args\": {}, \n",
      "  \"data\": \"\", \n",
      "  \"files\": {}, \n",
      "  \"form\": {\n",
      "    \"a\": \"1\", \n",
      "    \"b\": \"2\"\n",
      "  }, \n",
      "  \"headers\": {\n",
      "    \"Accept\": \"*/*\", \n",
      "    \"Accept-Encoding\": \"gzip, deflate\", \n",
      "    \"Content-Length\": \"7\", \n",
      "    \"Content-Type\": \"application/x-www-form-urlencoded\", \n",
      "    \"Host\": \"httpbin.org\", \n",
      "    \"User-Agent\": \"python-requests/2.27.1\", \n",
      "    \"X-Amzn-Trace-Id\": \"Root=1-6444c8f7-12f6d362247226b44d4edf14\"\n",
      "  }, \n",
      "  \"json\": null, \n",
      "  \"origin\": \"103.177.130.178\", \n",
      "  \"url\": \"https://httpbin.org/put\"\n",
      "}\n",
      "\n"
     ]
    }
   ],
   "source": [
    "import requests\n",
    "\n",
    "url = \"https://httpbin.org/put\"\n",
    "data = {'a': 1, 'b': 2} \n",
    "\n",
    "response = requests.put(url, data)\n",
    "\n",
    "print(response.text) "
   ]
  },
  {
   "cell_type": "raw",
   "id": "0c0c1789",
   "metadata": {},
   "source": [
    "The httpbin.org website provides a simple HTTP request/response service that allows you to test and experiment with various HTTP methods and parameters. It returns the same data that is sent to it in the request, allowing you to inspect and verify that your requests are being sent and received correctly.\n",
    "\n",
    "In the code you provided, the requests.get function sends an HTTP GET request to the https://httpbin.org/get URL with the payload parameters attached to the request as query parameters. This means that the payload data is sent in the URL itself as a series of key-value pairs.\n",
    "\n",
    "The response from the httpbin.org server includes information about the request that was sent, including the URL, headers, and any query parameters that were included. The response also includes the contents of the payload data that was sent in the request, allowing you to verify that it was sent correctly.\n",
    "\n",
    "Overall, using httpbin can be useful for testing and debugging your HTTP requests, as it allows you to see exactly what is being sent and received in each request and response."
   ]
  },
  {
   "cell_type": "code",
   "execution_count": null,
   "id": "b6a57ede",
   "metadata": {},
   "outputs": [],
   "source": []
  }
 ],
 "metadata": {
  "kernelspec": {
   "display_name": "Python 3 (ipykernel)",
   "language": "python",
   "name": "python3"
  },
  "language_info": {
   "codemirror_mode": {
    "name": "ipython",
    "version": 3
   },
   "file_extension": ".py",
   "mimetype": "text/x-python",
   "name": "python",
   "nbconvert_exporter": "python",
   "pygments_lexer": "ipython3",
   "version": "3.9.7"
  }
 },
 "nbformat": 4,
 "nbformat_minor": 5
}
